{
 "cells": [
  {
   "cell_type": "code",
   "execution_count": 13,
   "metadata": {},
   "outputs": [],
   "source": [
    "import numpy as np\n",
    "from PIL import Image\n",
    "import matplotlib.pyplot as plt\n",
    "import cv2"
   ]
  },
  {
   "cell_type": "code",
   "execution_count": 14,
   "metadata": {
    "scrolled": true
   },
   "outputs": [
    {
     "name": "stdout",
     "output_type": "stream",
     "text": [
      "(576, 768, 3)\n",
      "(6, 2)\n",
      "(6, 3)\n"
     ]
    }
   ],
   "source": [
    "I = Image.open('stereo2012a.jpg');\n",
    "img = cv2.imread('stereo2012a.jpg')\n",
    "\n",
    "uv = np.array([(266.59219819251496, 210.692364130062), \n",
    "      (343.2142034312044, 198.84360043335744), \n",
    "      (274.49137399031804, 262.0370068157818), \n",
    "      (350.32346164922717, 249.39832553929693), \n",
    "      (282.390549788121, 310.2219791823803), \n",
    "      (356.64280228746964, 296.0034627463349)\n",
    "     ])\n",
    "XYZ = np.array([(0,21,7),\n",
    "      (7,21,0),\n",
    "       (0,14,7),\n",
    "       (7,14,0),\n",
    "       (0,7,7),\n",
    "       (7,7,0)\n",
    "      ])\n",
    "print(img.shape)\n",
    "print(uv.shape)\n",
    "print(XYZ.shape)"
   ]
  },
  {
   "cell_type": "code",
   "execution_count": 20,
   "metadata": {},
   "outputs": [
    {
     "data": {
      "text/plain": [
       "'\\n%% TASK 1: CALIBRATE\\n%\\n% Function to perform camera calibration\\n%\\n% Usage:   calibrate(image, XYZ, uv)\\n%          return C\\n%   Where:   image - is the image of the calibration target.\\n%            XYZ - is a N x 3 array of  XYZ coordinates\\n%                  of the calibration target points. \\n%            uv  - is a N x 2 array of the image coordinates\\n%                  of the calibration target points.\\n%            K   - is the 3 x 4 camera calibration matrix.\\n%  The variable N should be an integer greater than or equal to 6.\\n%\\n%  This function plots the uv coordinates onto the image of the calibration\\n%  target. \\n%\\n%  It also projects the XYZ coordinates back into image coordinates using\\n%  the calibration matrix and plots these points too as \\n%  a visual check on the accuracy of the calibration process.\\n%\\n%  Lines from the origin to the vanishing points in the X, Y and Z\\n%  directions are overlaid on the image. \\n%\\n%  The mean squared error between the positions of the uv coordinates \\n%  and the projected XYZ coordinates is also reported.\\n%\\n%  The function should also report the error in satisfying the \\n%  camera calibration matrix constraints.\\n% \\n% your name, date \\n'"
      ]
     },
     "execution_count": 20,
     "metadata": {},
     "output_type": "execute_result"
    }
   ],
   "source": [
    "'''\n",
    "%% TASK 1: CALIBRATE\n",
    "%\n",
    "% Function to perform camera calibration\n",
    "%\n",
    "% Usage:   calibrate(image, XYZ, uv)\n",
    "%          return C\n",
    "%   Where:   image - is the image of the calibration target.\n",
    "%            XYZ - is a N x 3 array of  XYZ coordinates\n",
    "%                  of the calibration target points. \n",
    "%            uv  - is a N x 2 array of the image coordinates\n",
    "%                  of the calibration target points.\n",
    "%            K   - is the 3 x 4 camera calibration matrix.\n",
    "%  The variable N should be an integer greater than or equal to 6.\n",
    "%\n",
    "%  This function plots the uv coordinates onto the image of the calibration\n",
    "%  target. \n",
    "%\n",
    "%  It also projects the XYZ coordinates back into image coordinates using\n",
    "%  the calibration matrix and plots these points too as \n",
    "%  a visual check on the accuracy of the calibration process.\n",
    "%\n",
    "%  Lines from the origin to the vanishing points in the X, Y and Z\n",
    "%  directions are overlaid on the image. \n",
    "%\n",
    "%  The mean squared error between the positions of the uv coordinates \n",
    "%  and the projected XYZ coordinates is also reported.\n",
    "%\n",
    "%  The function should also report the error in satisfying the \n",
    "%  camera calibration matrix constraints.\n",
    "% \n",
    "% your name, date \n",
    "% Jieli Jerry Zheng, 5.17.2021\n",
    "'''"
   ]
  },
  {
   "cell_type": "code",
   "execution_count": 106,
   "metadata": {
    "scrolled": true
   },
   "outputs": [],
   "source": [
    "#####################################################################\n",
    "def calibrate(im, XYZ, uv):\n",
    "    # TBD\n",
    "    C = np.zeros((4,3))\n",
    "    n_points = XYZ.shape[0]\n",
    "    \n",
    "    # generate scaling factor\n",
    "    w_0 = 1\n",
    "    w = np.ones((n_points,w_0))\n",
    "    \n",
    "    # transform to homogeneous system\n",
    "    X = np.hstack([XYZ,w])\n",
    "    x = np.hstack([uv,w])\n",
    "    \n",
    "    # Factorizing unknowns w/ 2 equations\n",
    "    A = []\n",
    "    for i in range(n_points):\n",
    "        zero_vector = np.zeros((4,1))\n",
    "        fst_row = np.concatenate([zero_vector.T,-w_0*X[i].reshape(1,4),x[i][1]*X[i].reshape(1,4)],axis=1)\n",
    "        snd_row = np.concatenate([w_0*X[i].reshape(1,4),zero_vector.T,-x[i][0]*X[i].reshape(1,4)],axis=1)\n",
    "        A.append(fst_row)\n",
    "        if i != n_points-1:\n",
    "            A.append(snd_row)\n",
    "    A = np.array(A)\n",
    "    A = np.squeeze(A,axis=1)\n",
    "#     print(A.shape)\n",
    "    U,SIGMA,VH = np.linalg.svd(A)\n",
    "    print(U.shape)\n",
    "    print(SIGMA.shape)\n",
    "    print(VH.shape)\n",
    "    p = VH[:,-1]\n",
    "    print(p)\n",
    "    print(np.sqrt(sum([item**2 for item in p])))\n",
    "    P = p.reshape((3,4))\n",
    "    print(P)\n",
    "    return C"
   ]
  },
  {
   "cell_type": "code",
   "execution_count": 107,
   "metadata": {},
   "outputs": [
    {
     "name": "stdout",
     "output_type": "stream",
     "text": [
      "(11, 11)\n",
      "(11,)\n",
      "(12, 12)\n",
      "[-5.95227555e-02 -1.51238886e-02  1.88263998e-01  6.00816023e-04\n",
      " -1.57948313e-04  2.00946079e-04 -2.45277752e-04  8.22713372e-05\n",
      "  4.11798485e-04 -6.54676472e-01  7.29231991e-01  2.00931133e-02]\n",
      "1.0000000000000002\n",
      "[[-5.95227555e-02 -1.51238886e-02  1.88263998e-01  6.00816023e-04]\n",
      " [-1.57948313e-04  2.00946079e-04 -2.45277752e-04  8.22713372e-05]\n",
      " [ 4.11798485e-04 -6.54676472e-01  7.29231991e-01  2.00931133e-02]]\n"
     ]
    }
   ],
   "source": [
    "ans = calibrate(img,XYZ,uv)"
   ]
  },
  {
   "cell_type": "code",
   "execution_count": null,
   "metadata": {},
   "outputs": [],
   "source": [
    "'''\n",
    "%% TASK 2: \n",
    "% Computes the homography H applying the Direct Linear Transformation \n",
    "% The transformation is such that \n",
    "% p = np.matmul(H, p.T), i.e.,\n",
    "% (uBase, vBase, 1).T = np.matmul(H, (u2Trans , v2Trans, 1).T)\n",
    "% Note: we assume (a, b, c) => np.concatenate((a, b, c), axis), be careful when \n",
    "% deal the value of axis \n",
    "%\n",
    "% INPUTS: \n",
    "% u2Trans, v2Trans - vectors with coordinates u and v of the transformed image point (p') \n",
    "% uBase, vBase - vectors with coordinates u and v of the original base image point p  \n",
    "% \n",
    "% OUTPUT \n",
    "% H - a 3x3 Homography matrix  \n",
    "% \n",
    "% your name, date \n",
    "% Jieli Jerry Zheng, 5.17.2021\n",
    "'''"
   ]
  },
  {
   "cell_type": "code",
   "execution_count": 3,
   "metadata": {},
   "outputs": [],
   "source": [
    "############################################################################\n",
    "def homography(u2Trans, v2Trans, uBase, vBase):\n",
    "    H = None\n",
    "    return H \n",
    "\n",
    "\n",
    "############################################################################\n",
    "def rq(A):\n",
    "    # RQ factorisation\n",
    "\n",
    "    [q,r] = np.linalg.qr(A.T)   # numpy has QR decomposition, here we can do it \n",
    "                                # with Q: orthonormal and R: upper triangle. Apply QR\n",
    "                                # for the A-transpose, then A = (qr).T = r.T@q.T = RQ\n",
    "    R = r.T\n",
    "    Q = q.T\n",
    "    return R,Q"
   ]
  },
  {
   "cell_type": "code",
   "execution_count": null,
   "metadata": {},
   "outputs": [],
   "source": []
  }
 ],
 "metadata": {
  "kernelspec": {
   "display_name": "Python [conda env:root] *",
   "language": "python",
   "name": "conda-root-py"
  },
  "language_info": {
   "codemirror_mode": {
    "name": "ipython",
    "version": 3
   },
   "file_extension": ".py",
   "mimetype": "text/x-python",
   "name": "python",
   "nbconvert_exporter": "python",
   "pygments_lexer": "ipython3",
   "version": "3.7.3"
  }
 },
 "nbformat": 4,
 "nbformat_minor": 2
}
